{
 "cells": [
  {
   "cell_type": "markdown",
   "metadata": {},
   "source": [
    "# Non-negative weights assignment\n",
    "\n",
    "Following procedure assigns weights to **w**[*i*], so they sum up to *sum* for *i*=0...*n*-1. Weights have to sum up to *sum* exactly. If *sum*=100, just steps like 0.5,1,2,5,10,25 are allowed. As *n* is increasing and *step* is decreasing, assignments count is increasing very steeply."
   ]
  },
  {
   "cell_type": "code",
   "execution_count": 3,
   "metadata": {},
   "outputs": [],
   "source": [
    "\n",
    "def weights_exact(step,sum,n):\n",
    "    if sum%step!=0:\n",
    "        return \"This step is not allowed.\"\n",
    "    w=list()\n",
    "    weights=list()\n",
    "    w[0:n]=[0]*n\n",
    "    w[0]=sum\n",
    "    counter=0\n",
    "    i=0\n",
    "    weights.append(w.copy())\n",
    "    while w[n-1]!=sum:\n",
    "        w[i] =0\n",
    "        i=i+1\n",
    "        w[i]=w[i]+step        \n",
    "        counter=counter+step\n",
    "        if counter==sum:\n",
    "            counter=counter-w[i]\n",
    "        else:\n",
    "            w[0]=sum-counter\n",
    "            i=0\n",
    "        weights.append(w.copy())\n",
    "    return weights\n",
    "    \n",
    "        "
   ]
  },
  {
   "cell_type": "code",
   "execution_count": 4,
   "metadata": {},
   "outputs": [
    {
     "name": "stdout",
     "output_type": "stream",
     "text": [
      "[[100, 0, 0], [90, 10, 0], [80, 20, 0], [70, 30, 0], [60, 40, 0], [50, 50, 0], [40, 60, 0], [30, 70, 0], [20, 80, 0], [10, 90, 0], [0, 100, 0], [90, 0, 10], [80, 10, 10], [70, 20, 10], [60, 30, 10], [50, 40, 10], [40, 50, 10], [30, 60, 10], [20, 70, 10], [10, 80, 10], [0, 90, 10], [80, 0, 20], [70, 10, 20], [60, 20, 20], [50, 30, 20], [40, 40, 20], [30, 50, 20], [20, 60, 20], [10, 70, 20], [0, 80, 20], [70, 0, 30], [60, 10, 30], [50, 20, 30], [40, 30, 30], [30, 40, 30], [20, 50, 30], [10, 60, 30], [0, 70, 30], [60, 0, 40], [50, 10, 40], [40, 20, 40], [30, 30, 40], [20, 40, 40], [10, 50, 40], [0, 60, 40], [50, 0, 50], [40, 10, 50], [30, 20, 50], [20, 30, 50], [10, 40, 50], [0, 50, 50], [40, 0, 60], [30, 10, 60], [20, 20, 60], [10, 30, 60], [0, 40, 60], [30, 0, 70], [20, 10, 70], [10, 20, 70], [0, 30, 70], [20, 0, 80], [10, 10, 80], [0, 20, 80], [10, 0, 90], [0, 10, 90], [0, 0, 100]]\n"
     ]
    }
   ],
   "source": [
    "w=weights_exact(10,100,3)\n",
    "print(w)"
   ]
  },
  {
   "cell_type": "markdown",
   "metadata": {},
   "source": [
    "Following procedure does almost the same as previous procedure, but weights do not have to sum up to *sum* exactly."
   ]
  },
  {
   "cell_type": "code",
   "execution_count": 5,
   "metadata": {},
   "outputs": [],
   "source": [
    "def weights(step,sum,n):    \n",
    "    sum_adj=round(int(sum/step)*step,5)\n",
    "    w=list()\n",
    "    weights=list()\n",
    "    w[0:n]=[0]*n\n",
    "    w[0]=sum    \n",
    "    counter=0\n",
    "    i=0\n",
    "    weights.append(w.copy())\n",
    "    while w[n-1]<sum_adj:\n",
    "        w[i] =0        \n",
    "        i=i+1     \n",
    "        w[i]=round(w[i]+step,5)    \n",
    "        counter=round(counter+step,5)\n",
    "        if counter==sum_adj:\n",
    "            counter=round(counter-w[i],5)\n",
    "            w[i]=round(w[i]+sum-sum_adj,5)\n",
    "        else:\n",
    "            w[0]=round(sum-counter,5)\n",
    "            i=0\n",
    "        weights.append(w.copy())\n",
    "    return weights\n",
    "    "
   ]
  },
  {
   "cell_type": "code",
   "execution_count": 6,
   "metadata": {},
   "outputs": [
    {
     "name": "stdout",
     "output_type": "stream",
     "text": [
      "[[100, 0, 0], [66.7, 33.3, 0], [33.4, 66.6, 0], [0, 100.0, 0], [66.7, 0, 33.3], [33.4, 33.3, 33.3], [0, 66.7, 33.3], [33.4, 0, 66.6], [0, 33.4, 66.6], [0, 0, 100.0]]\n"
     ]
    }
   ],
   "source": [
    "w=weights(33.3,100,3)\n",
    "print(w)"
   ]
  }
 ],
 "metadata": {
  "kernelspec": {
   "display_name": "Python 3",
   "language": "python",
   "name": "python3"
  },
  "language_info": {
   "codemirror_mode": {
    "name": "ipython",
    "version": 3
   },
   "file_extension": ".py",
   "mimetype": "text/x-python",
   "name": "python",
   "nbconvert_exporter": "python",
   "pygments_lexer": "ipython3",
   "version": "3.6.5"
  }
 },
 "nbformat": 4,
 "nbformat_minor": 2
}
