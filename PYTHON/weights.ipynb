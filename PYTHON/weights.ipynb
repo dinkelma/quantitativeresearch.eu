{
 "cells": [
  {
   "cell_type": "markdown",
   "metadata": {},
   "source": [
    "# Non-negative weights assignment\n",
    "\n",
    "Both procedures can be used at Monte Carlo simulations.\n",
    "\n",
    "Following procedure assigns weights to **w**[*i*], so they sum up to *sum* for *i*=0...*n*-1. Weights have to sum up to *sum* exactly. If *sum*=100, just steps like 0.5,1,2,5,10,25 are allowed. As *n* is increasing and *step* is decreasing, assignments count is increasing very steeply."
   ]
  },
  {
   "cell_type": "code",
   "execution_count": 1,
   "metadata": {},
   "outputs": [],
   "source": [
    "\n",
    "def weights_exact(step,sum,n):\n",
    "    if sum%step!=0:\n",
    "        return \"This step is not allowed.\"\n",
    "    w=list()\n",
    "    weights=list()\n",
    "    w[0:n]=[0]*(n)\n",
    "    w[0]=sum\n",
    "    counter=0\n",
    "    i=0\n",
    "    weights.append(w.copy())\n",
    "    while w[n-1]!=sum:\n",
    "        w[i] =0\n",
    "        i=i+1\n",
    "        w[i]=w[i]+step        \n",
    "        counter=counter+step\n",
    "        if counter==sum:\n",
    "            counter=counter-w[i]\n",
    "        else:\n",
    "            w[0]=sum-counter\n",
    "            i=0\n",
    "        weights.append(w.copy())\n",
    "    return weights\n",
    "    \n",
    "        "
   ]
  },
  {
   "cell_type": "code",
   "execution_count": 16,
   "metadata": {},
   "outputs": [
    {
     "name": "stdout",
     "output_type": "stream",
     "text": [
      "[[50, 0, 0], [40, 10, 0], [30, 20, 0], [20, 30, 0], [10, 40, 0], [0, 50, 0], [40, 0, 10], [30, 10, 10], [20, 20, 10], [10, 30, 10], [0, 40, 10], [30, 0, 20], [20, 10, 20], [10, 20, 20], [0, 30, 20], [20, 0, 30], [10, 10, 30], [0, 20, 30], [10, 0, 40], [0, 10, 40], [0, 0, 50]]\n"
     ]
    }
   ],
   "source": [
    "w=weights_exact(10,50,3)\n",
    "print(w)"
   ]
  },
  {
   "cell_type": "markdown",
   "metadata": {},
   "source": [
    "Following procedure does almost the same as previous procedure, but weights do not have to sum up to *sum* exactly."
   ]
  },
  {
   "cell_type": "code",
   "execution_count": 6,
   "metadata": {},
   "outputs": [],
   "source": [
    "def weights(step,sum,n):    \n",
    "    sum_adj=round(int(sum/step)*step,5)\n",
    "    w=list()\n",
    "    weights=list()\n",
    "    w[0:n]=[0]*n\n",
    "    w[0]=sum    \n",
    "    counter=0\n",
    "    i=0\n",
    "    weights.append(w.copy())\n",
    "    while round(w[n-1],5)!=sum:\n",
    "        w[i] =0        \n",
    "        i=i+1     \n",
    "        w[i]=round(w[i]+step,5)    \n",
    "        counter=round(counter+step,5)\n",
    "        if counter==sum_adj:\n",
    "            counter=round(counter-w[i],5)\n",
    "            w[i]=round(w[i]+sum-sum_adj,5)\n",
    "        else:\n",
    "            w[0]=round(sum-counter,5)\n",
    "            i=0\n",
    "        weights.append(w.copy())\n",
    "    return weights\n",
    "    "
   ]
  },
  {
   "cell_type": "code",
   "execution_count": 8,
   "metadata": {},
   "outputs": [
    {
     "name": "stdout",
     "output_type": "stream",
     "text": [
      "[[100, 0, 0], [66.67, 33.33, 0], [33.34, 66.66, 0], [0, 100.0, 0], [66.67, 0, 33.33], [33.34, 33.33, 33.33], [0, 66.67, 33.33], [33.34, 0, 66.66], [0, 33.34, 66.66], [0, 0, 100.0]]\n"
     ]
    }
   ],
   "source": [
    "w=weights(33.33,100,3)\n",
    "print(w)"
   ]
  },
  {
   "cell_type": "code",
   "execution_count": null,
   "metadata": {},
   "outputs": [],
   "source": []
  }
 ],
 "metadata": {
  "kernelspec": {
   "display_name": "Python 3",
   "language": "python",
   "name": "python3"
  },
  "language_info": {
   "codemirror_mode": {
    "name": "ipython",
    "version": 3
   },
   "file_extension": ".py",
   "mimetype": "text/x-python",
   "name": "python",
   "nbconvert_exporter": "python",
   "pygments_lexer": "ipython3",
   "version": "3.6.5"
  }
 },
 "nbformat": 4,
 "nbformat_minor": 2
}
